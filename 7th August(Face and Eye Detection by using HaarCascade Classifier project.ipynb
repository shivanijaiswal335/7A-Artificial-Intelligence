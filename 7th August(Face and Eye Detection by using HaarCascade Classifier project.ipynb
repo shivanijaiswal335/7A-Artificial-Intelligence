{
 "cells": [
  {
   "cell_type": "markdown",
   "id": "8a82898b",
   "metadata": {},
   "source": [
    "# Face and Eye Detection by using Haar Cascade Classifiers"
   ]
  },
  {
   "cell_type": "markdown",
   "id": "6be13321",
   "metadata": {},
   "source": [
    "# Face Detection by using HaarCascade Classifier"
   ]
  },
  {
   "cell_type": "code",
   "execution_count": null,
   "id": "2f19a670",
   "metadata": {},
   "outputs": [],
   "source": [
    "import numpy as np\n",
    "import cv2\n",
    "# We point OpenCV's CascadeClassifier function to where our\n",
    "# classifier(XML file format) is stored\n",
    "face_classifier = cv2.CascadeClassifier('Haarcascades/haarcascade_frontalface_dafault.xml')\n",
    "# load our image then convert it to grayscale\n",
    "image = cv2.imread(r'C:/Users/HP/Pictures/My Pics/shivani01.jpg')\n",
    "gray = cv2.cvtColor(image, cv2.COLOR_BGR2GRAY)\n",
    "# Our classifier returns the ROI of the detected face as a tuple\n",
    "# It stores the top left coordinate and the bottom right coordiantes\n",
    "# Load the cascade\n",
    "face_cascade = cv2.CascadeClassifier(cv2.data.haarcascades + 'haarcascade_frontalface_default.xml')\n",
    "\n",
    "# Use the cascade to detect faces\n",
    "faces = face_cascade.detectMultiScale(gray, scaleFactor=1.3, minNeighbors=5)\n",
    "\n",
    "#faces = face_classifier.detectMultiScale(gray, 1.3, 5)\n",
    "# When no faces detected, face_classifier returns and empty tuple \n",
    "#if not faces: \n",
    "   # print(\"No faces found\")\n",
    "if faces is None or len(faces) == 0:\n",
    "    print(\"No faces found\")\n",
    "else:\n",
    "    print(f\"Number of faces found: {len(faces)}\")\n",
    "    # Add code to draw rectangles around the faces\n",
    "\n",
    "    # Add code to draw rectangles around the faces\n",
    "\n",
    "# We iterate through our faces array and draw a rectangle\n",
    "# over each face in faces\n",
    "for (x,y,w, h) in faces: \n",
    "    cv2.rectangle(image, (x,y), (x+w,y+h),(127,0, 255),2)\n",
    "    cv2.imshow('Face Detection', image)\n",
    "    cv2.waitKey(0)\n",
    "cv2.destroyAllWindows()    \n",
    "    "
   ]
  },
  {
   "cell_type": "markdown",
   "id": "7580d429",
   "metadata": {},
   "source": [
    "# Convert image into gray color"
   ]
  },
  {
   "cell_type": "code",
   "execution_count": null,
   "id": "cecfbecb",
   "metadata": {},
   "outputs": [],
   "source": [
    "import cv2\n",
    "\n",
    "# Load our image\n",
    "image = cv2.imread(r'C:/Users/HP/Pictures/My Pics/shivani01.jpg')\n",
    "#image = cv2.imread(image_path)\n",
    "\n",
    "# Check if the image is loaded successfully\n",
    "if image is not None:\n",
    "    # Convert the image to grayscale\n",
    "    gray = cv2.cvtColor(image, cv2.COLOR_BGR2GRAY)\n",
    "\n",
    "    # Continue with the rest of your code...\n",
    "    # (e.g., face detection using the classifier)\n",
    "\n",
    "    # Display the grayscale image\n",
    "    cv2.imshow('Grayscale Image', gray)\n",
    "    cv2.waitKey(0)\n",
    "    cv2.destroyAllWindows()\n",
    "else:\n",
    "    print(f\"Error: Unable to load the image at path {image_path}.\")\n"
   ]
  },
  {
   "cell_type": "markdown",
   "id": "7cbb0794",
   "metadata": {},
   "source": [
    "# Lets make a  live face and eye detection(detect eye and face on webcame live view) keeping the face inview at all times"
   ]
  },
  {
   "cell_type": "code",
   "execution_count": null,
   "id": "6437fedd",
   "metadata": {},
   "outputs": [],
   "source": [
    "import cv2\n",
    "\n",
    "# Load the cascade classifiers\n",
    "face_classifier = cv2.CascadeClassifier(cv2.data.haarcascades + 'haarcascade_frontalface_default.xml')\n",
    "eye_classifier = cv2.CascadeClassifier(cv2.data.haarcascades + 'haarcascade_eye.xml')\n",
    "\n",
    "def face_and_eye_detector(img, size=0.5):\n",
    "    # Convert image to grayscale\n",
    "    gray = cv2.cvtColor(img, cv2.COLOR_BGR2GRAY)\n",
    "\n",
    "    # Detect faces\n",
    "    faces = face_classifier.detectMultiScale(gray, scaleFactor=1.3, minNeighbors=5)\n",
    "\n",
    "    for (x, y, w, h) in faces:\n",
    "        cv2.rectangle(img, (x, y), (x+w, y+h), (255, 0, 0), 2)\n",
    "        roi_gray = gray[y:y+h, x:x+w]\n",
    "        roi_color = img[y:y+h, x:x+w]\n",
    "\n",
    "        # Detect eyes within the region of interest (ROI)\n",
    "        eyes = eye_classifier.detectMultiScale(roi_gray, scaleFactor=1.3, minNeighbors=5)\n",
    "        \n",
    "        for (ex, ey, ew, eh) in eyes:\n",
    "            cv2.rectangle(roi_color, (ex, ey), (ex+ew, ey+eh), (0, 255, 0), 2)\n",
    "\n",
    "    return img\n",
    "\n",
    "# Your main loop\n",
    "cap = cv2.VideoCapture(0)\n",
    "\n",
    "while True:\n",
    "    ret, frame = cap.read()\n",
    "    cv2.imshow('Face and Eye Extractor', face_and_eye_detector(frame))\n",
    "\n",
    "    if cv2.waitKey(1) == 13:  # 13 is the Enter Key\n",
    "        break\n",
    "\n",
    "cap.release()\n",
    "cv2.destroyAllWindows()\n"
   ]
  },
  {
   "cell_type": "markdown",
   "id": "d3b1057e",
   "metadata": {},
   "source": [
    "# Face Detection"
   ]
  },
  {
   "cell_type": "code",
   "execution_count": null,
   "id": "1e5bee56",
   "metadata": {},
   "outputs": [],
   "source": [
    "import cv2\n",
    "\n",
    "# Load the cascade classifier\n",
    "face_classifier = cv2.CascadeClassifier(cv2.data.haarcascades + 'haarcascade_frontalface_default.xml')\n",
    "\n",
    "# Read the image\n",
    "img = cv2.imread('C:/Users/HP/Pictures/My Pics/shivani01.jpg')\n",
    "\n",
    "# Convert the image to grayscale\n",
    "gray = cv2.cvtColor(img, cv2.COLOR_BGR2GRAY)\n",
    "\n",
    "# Detect faces\n",
    "faces = face_classifier.detectMultiScale(gray, scaleFactor=1.3, minNeighbors=5)\n",
    "\n",
    "# When no faces detected, face_classifier returns an empty array\n",
    "if len(faces) == 0:\n",
    "    print(\"No faces found\")\n",
    "else:\n",
    "    # Process the detected faces (e.g., draw rectangles)\n",
    "    for (x, y, w, h) in faces:\n",
    "        cv2.rectangle(img, (x, y), (x+w, y+h), (255, 0, 0), 2)\n",
    "\n",
    "    # Display the image with rectangles around detected faces\n",
    "    cv2.imshow('Detected Faces', img)\n",
    "    cv2.waitKey(0)\n",
    "    cv2.destroyAllWindows()\n"
   ]
  },
  {
   "cell_type": "markdown",
   "id": "13bf08e0",
   "metadata": {},
   "source": [
    "# Face and Eye Detection on Loaded Image"
   ]
  },
  {
   "cell_type": "code",
   "execution_count": null,
   "id": "24025756",
   "metadata": {},
   "outputs": [],
   "source": [
    "import cv2\n",
    "\n",
    "# Load the cascade classifiers\n",
    "face_classifier = cv2.CascadeClassifier(cv2.data.haarcascades + 'haarcascade_frontalface_default.xml')\n",
    "eye_classifier = cv2.CascadeClassifier(cv2.data.haarcascades + 'haarcascade_eye.xml')\n",
    "\n",
    "# Read the image\n",
    "img = cv2.imread(r'C:/Users/HP/Pictures/My Pics/shivani01.jpg')\n",
    "\n",
    "\n",
    "# Convert the image to grayscale\n",
    "gray = cv2.cvtColor(img, cv2.COLOR_BGR2GRAY)\n",
    "\n",
    "# Detect faces\n",
    "faces = face_classifier.detectMultiScale(gray, scaleFactor=1.3, minNeighbors=5)\n",
    "\n",
    "# When no faces detected, face_classifier returns an empty array\n",
    "if len(faces) == 0:\n",
    "    print(\"No faces found\")\n",
    "else:\n",
    "    # Process the detected faces\n",
    "    for (x, y, w, h) in faces:\n",
    "        cv2.rectangle(img, (x, y), (x+w, y+h), (255, 0, 0), 2)\n",
    "        \n",
    "        # Region of Interest (ROI) for eyes within the detected face\n",
    "        roi_gray = gray[y:y+h, x:x+w]\n",
    "        roi_color = img[y:y+h, x:x+w]\n",
    "\n",
    "        # Detect eyes within the ROI\n",
    "        eyes = eye_classifier.detectMultiScale(roi_gray)\n",
    "\n",
    "        # Process the detected eyes\n",
    "        for (ex, ey, ew, eh) in eyes:\n",
    "            cv2.rectangle(roi_color, (ex, ey), (ex+ew, ey+eh), (0, 255, 0), 2)\n",
    "\n",
    "    # Display the image with rectangles around detected faces and eyes\n",
    "    cv2.imshow('Detected Faces and Eyes', img)\n",
    "    cv2.waitKey(0)\n",
    "    cv2.destroyAllWindows()\n"
   ]
  },
  {
   "cell_type": "code",
   "execution_count": null,
   "id": "e9b13726",
   "metadata": {},
   "outputs": [],
   "source": []
  }
 ],
 "metadata": {
  "kernelspec": {
   "display_name": "Python 3 (ipykernel)",
   "language": "python",
   "name": "python3"
  },
  "language_info": {
   "codemirror_mode": {
    "name": "ipython",
    "version": 3
   },
   "file_extension": ".py",
   "mimetype": "text/x-python",
   "name": "python",
   "nbconvert_exporter": "python",
   "pygments_lexer": "ipython3",
   "version": "3.10.12"
  }
 },
 "nbformat": 4,
 "nbformat_minor": 5
}
