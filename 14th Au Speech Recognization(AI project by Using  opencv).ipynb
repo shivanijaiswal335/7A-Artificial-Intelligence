{
 "cells": [
  {
   "cell_type": "code",
   "execution_count": 1,
   "id": "7250fd57",
   "metadata": {},
   "outputs": [
    {
     "name": "stdout",
     "output_type": "stream",
     "text": [
      "Requirement already satisfied: SpeechRecognition in c:\\users\\hp\\downloads\\new folder\\envs\\tensorflow_env\\lib\\site-packages (3.10.3)Note: you may need to restart the kernel to use updated packages.\n",
      "\n",
      "Requirement already satisfied: requests>=2.26.0 in c:\\users\\hp\\downloads\\new folder\\envs\\tensorflow_env\\lib\\site-packages (from SpeechRecognition) (2.31.0)\n",
      "Requirement already satisfied: typing-extensions in c:\\users\\hp\\downloads\\new folder\\envs\\tensorflow_env\\lib\\site-packages (from SpeechRecognition) (4.5.0)\n",
      "Requirement already satisfied: charset-normalizer<4,>=2 in c:\\users\\hp\\downloads\\new folder\\envs\\tensorflow_env\\lib\\site-packages (from requests>=2.26.0->SpeechRecognition) (3.2.0)\n",
      "Requirement already satisfied: idna<4,>=2.5 in c:\\users\\hp\\downloads\\new folder\\envs\\tensorflow_env\\lib\\site-packages (from requests>=2.26.0->SpeechRecognition) (3.4)\n",
      "Requirement already satisfied: urllib3<3,>=1.21.1 in c:\\users\\hp\\downloads\\new folder\\envs\\tensorflow_env\\lib\\site-packages (from requests>=2.26.0->SpeechRecognition) (1.26.16)\n",
      "Requirement already satisfied: certifi>=2017.4.17 in c:\\users\\hp\\downloads\\new folder\\envs\\tensorflow_env\\lib\\site-packages (from requests>=2.26.0->SpeechRecognition) (2023.7.22)\n"
     ]
    }
   ],
   "source": [
    "pip install SpeechRecognition\n"
   ]
  },
  {
   "cell_type": "code",
   "execution_count": 2,
   "id": "0582fbf1",
   "metadata": {},
   "outputs": [
    {
     "name": "stdout",
     "output_type": "stream",
     "text": [
      "Requirement already satisfied: pyttsx3 in c:\\users\\hp\\downloads\\new folder\\envs\\tensorflow_env\\lib\\site-packages (2.90)Note: you may need to restart the kernel to use updated packages.\n",
      "\n",
      "Requirement already satisfied: comtypes in c:\\users\\hp\\downloads\\new folder\\envs\\tensorflow_env\\lib\\site-packages (from pyttsx3) (1.3.1)\n",
      "Requirement already satisfied: pypiwin32 in c:\\users\\hp\\downloads\\new folder\\envs\\tensorflow_env\\lib\\site-packages (from pyttsx3) (223)\n",
      "Requirement already satisfied: pywin32 in c:\\users\\hp\\downloads\\new folder\\envs\\tensorflow_env\\lib\\site-packages (from pyttsx3) (305.1)\n"
     ]
    }
   ],
   "source": [
    "pip install pyttsx3\n"
   ]
  },
  {
   "cell_type": "code",
   "execution_count": 3,
   "id": "5a5082fe",
   "metadata": {},
   "outputs": [
    {
     "name": "stdout",
     "output_type": "stream",
     "text": [
      "Requirement already satisfied: pywhatkit in c:\\users\\hp\\downloads\\new folder\\envs\\tensorflow_env\\lib\\site-packages (5.4)Note: you may need to restart the kernel to use updated packages.\n",
      "\n",
      "Requirement already satisfied: Pillow in c:\\users\\hp\\downloads\\new folder\\envs\\tensorflow_env\\lib\\site-packages (from pywhatkit) (10.0.0)\n",
      "Requirement already satisfied: pyautogui in c:\\users\\hp\\downloads\\new folder\\envs\\tensorflow_env\\lib\\site-packages (from pywhatkit) (0.9.54)\n",
      "Requirement already satisfied: requests in c:\\users\\hp\\downloads\\new folder\\envs\\tensorflow_env\\lib\\site-packages (from pywhatkit) (2.31.0)\n",
      "Requirement already satisfied: wikipedia in c:\\users\\hp\\downloads\\new folder\\envs\\tensorflow_env\\lib\\site-packages (from pywhatkit) (1.4.0)\n",
      "Requirement already satisfied: Flask in c:\\users\\hp\\downloads\\new folder\\envs\\tensorflow_env\\lib\\site-packages (from pywhatkit) (3.0.2)\n",
      "Requirement already satisfied: Werkzeug>=3.0.0 in c:\\users\\hp\\downloads\\new folder\\envs\\tensorflow_env\\lib\\site-packages (from Flask->pywhatkit) (3.0.2)\n",
      "Requirement already satisfied: Jinja2>=3.1.2 in c:\\users\\hp\\downloads\\new folder\\envs\\tensorflow_env\\lib\\site-packages (from Flask->pywhatkit) (3.1.2)\n",
      "Requirement already satisfied: itsdangerous>=2.1.2 in c:\\users\\hp\\downloads\\new folder\\envs\\tensorflow_env\\lib\\site-packages (from Flask->pywhatkit) (2.1.2)\n",
      "Requirement already satisfied: click>=8.1.3 in c:\\users\\hp\\downloads\\new folder\\envs\\tensorflow_env\\lib\\site-packages (from Flask->pywhatkit) (8.1.7)\n",
      "Requirement already satisfied: blinker>=1.6.2 in c:\\users\\hp\\downloads\\new folder\\envs\\tensorflow_env\\lib\\site-packages (from Flask->pywhatkit) (1.7.0)\n",
      "Requirement already satisfied: pymsgbox in c:\\users\\hp\\downloads\\new folder\\envs\\tensorflow_env\\lib\\site-packages (from pyautogui->pywhatkit) (1.0.9)\n",
      "Requirement already satisfied: pytweening>=1.0.4 in c:\\users\\hp\\downloads\\new folder\\envs\\tensorflow_env\\lib\\site-packages (from pyautogui->pywhatkit) (1.2.0)\n",
      "Requirement already satisfied: pyscreeze>=0.1.21 in c:\\users\\hp\\downloads\\new folder\\envs\\tensorflow_env\\lib\\site-packages (from pyautogui->pywhatkit) (0.1.30)\n",
      "Requirement already satisfied: pygetwindow>=0.0.5 in c:\\users\\hp\\downloads\\new folder\\envs\\tensorflow_env\\lib\\site-packages (from pyautogui->pywhatkit) (0.0.9)\n",
      "Requirement already satisfied: mouseinfo in c:\\users\\hp\\downloads\\new folder\\envs\\tensorflow_env\\lib\\site-packages (from pyautogui->pywhatkit) (0.1.3)\n",
      "Requirement already satisfied: charset-normalizer<4,>=2 in c:\\users\\hp\\downloads\\new folder\\envs\\tensorflow_env\\lib\\site-packages (from requests->pywhatkit) (3.2.0)\n",
      "Requirement already satisfied: idna<4,>=2.5 in c:\\users\\hp\\downloads\\new folder\\envs\\tensorflow_env\\lib\\site-packages (from requests->pywhatkit) (3.4)\n",
      "Requirement already satisfied: urllib3<3,>=1.21.1 in c:\\users\\hp\\downloads\\new folder\\envs\\tensorflow_env\\lib\\site-packages (from requests->pywhatkit) (1.26.16)\n",
      "Requirement already satisfied: certifi>=2017.4.17 in c:\\users\\hp\\downloads\\new folder\\envs\\tensorflow_env\\lib\\site-packages (from requests->pywhatkit) (2023.7.22)\n",
      "Requirement already satisfied: beautifulsoup4 in c:\\users\\hp\\downloads\\new folder\\envs\\tensorflow_env\\lib\\site-packages (from wikipedia->pywhatkit) (4.12.2)\n",
      "Requirement already satisfied: colorama in c:\\users\\hp\\downloads\\new folder\\envs\\tensorflow_env\\lib\\site-packages (from click>=8.1.3->Flask->pywhatkit) (0.4.6)\n",
      "Requirement already satisfied: MarkupSafe>=2.0 in c:\\users\\hp\\downloads\\new folder\\envs\\tensorflow_env\\lib\\site-packages (from Jinja2>=3.1.2->Flask->pywhatkit) (2.1.1)\n",
      "Requirement already satisfied: pyrect in c:\\users\\hp\\downloads\\new folder\\envs\\tensorflow_env\\lib\\site-packages (from pygetwindow>=0.0.5->pyautogui->pywhatkit) (0.2.0)\n",
      "Requirement already satisfied: soupsieve>1.2 in c:\\users\\hp\\downloads\\new folder\\envs\\tensorflow_env\\lib\\site-packages (from beautifulsoup4->wikipedia->pywhatkit) (2.4)\n",
      "Requirement already satisfied: pyperclip in c:\\users\\hp\\downloads\\new folder\\envs\\tensorflow_env\\lib\\site-packages (from mouseinfo->pyautogui->pywhatkit) (1.8.2)\n"
     ]
    }
   ],
   "source": [
    "pip install pywhatkit\n"
   ]
  },
  {
   "cell_type": "code",
   "execution_count": 4,
   "id": "bd69cdc2",
   "metadata": {},
   "outputs": [],
   "source": [
    "import speech_recognition as sr\n",
    "import pyttsx3 as pt\n",
    "import pywhatkit as pk\n",
    "\n",
    "\n",
    "listening = sr.Recognizer()\n",
    "\n",
    "# Initialize pyttsx3 with a valid speech synthesis engine\n",
    "engine = pt.init()  # No need to specify 'dummy'\n"
   ]
  },
  {
   "cell_type": "code",
   "execution_count": 5,
   "id": "07eea149",
   "metadata": {},
   "outputs": [
    {
     "name": "stdout",
     "output_type": "stream",
     "text": [
      "listening....\n",
      "hi how are you\n"
     ]
    }
   ],
   "source": [
    "def speak(text):\n",
    "    engine.say(text)\n",
    "    engine.runAndWait()\n",
    "def hear():\n",
    "    cmd =\"\"\n",
    "    try:\n",
    "        with sr.Microphone() as mic: \n",
    "            print('listening....')\n",
    "            voice = listening.listen(mic)\n",
    "            cmd = listening.recognize_google(voice)\n",
    "            cmd = cmd.lower()\n",
    "            if'shivani' in cmd: \n",
    "                cmd = cmd.replace('shivani' ,'' )\n",
    "                print(cmd)\n",
    "    except:\n",
    "        pass\n",
    "    return cmd\n",
    "def run(): \n",
    "    cmd = hear()\n",
    "    print(cmd)\n",
    "    if 'play' in cmd: \n",
    "        song = cmd.replace('play', '')\n",
    "        speak('playing......' + song)\n",
    "       # pk.playonyt('playing....'   + song)\n",
    "    \n",
    "\n",
    "run()\n",
    "        "
   ]
  },
  {
   "cell_type": "code",
   "execution_count": 6,
   "id": "6998fe43",
   "metadata": {},
   "outputs": [
    {
     "name": "stdout",
     "output_type": "stream",
     "text": [
      "Requirement already satisfied: pyaudio in c:\\users\\hp\\downloads\\new folder\\envs\\tensorflow_env\\lib\\site-packages (0.2.14)Note: you may need to restart the kernel to use updated packages.\n",
      "\n"
     ]
    }
   ],
   "source": [
    "pip install pyaudio\n"
   ]
  },
  {
   "cell_type": "code",
   "execution_count": 11,
   "id": "df3b551c",
   "metadata": {},
   "outputs": [
    {
     "name": "stdout",
     "output_type": "stream",
     "text": [
      "Listening...\n",
      "Recognized Command: play lata mangeshkar song\n"
     ]
    }
   ],
   "source": [
    "def speak(text):\n",
    "    engine.say(text)\n",
    "    engine.runAndWait()\n",
    "\n",
    "def hear():\n",
    "    cmd = \"\"  # Initialize cmd variable\n",
    "    try:\n",
    "        with sr.Microphone() as mic: \n",
    "            print('Listening...')\n",
    "            listening.adjust_for_ambient_noise(mic)\n",
    "            voice = listening.listen(mic)\n",
    "            cmd = listening.recognize_google(voice)\n",
    "            cmd = cmd.lower()\n",
    "            if 'shivani' in cmd: \n",
    "                cmd = cmd.replace('shivani', '')  # Remove \"shivani\" from the command\n",
    "                print('Command:', cmd)\n",
    "    except sr.UnknownValueError:\n",
    "        print('Could not understand audio')\n",
    "    except sr.RequestError as e:\n",
    "        print(f'Could not request results; {e}')\n",
    "    except Exception as e:\n",
    "        print(f'Error: {e}')\n",
    "    return cmd\n",
    "\n",
    "def run(): \n",
    "    cmd = hear()\n",
    "    song=(' song')\n",
    "    print('Recognized Command:', cmd)\n",
    "    if 'play' in cmd: \n",
    "       # song = cmd.replace('play', '').strip()  # Remove \"play\" and extra spaces\n",
    "        speak('Playing ' + song)\n",
    "       # song_name= ('Hindi movie song')\n",
    "        # You can add code here to actually play the song using a library like pywhatkit\n",
    "        pk.playonyt(song)\n",
    "\n",
    "run()\n"
   ]
  },
  {
   "cell_type": "code",
   "execution_count": 8,
   "id": "2b7c64e9",
   "metadata": {},
   "outputs": [
    {
     "data": {
      "text/plain": [
       "'https://www.youtube.com/watch?v=ZYrykKFSAiU\\\\\\\\u0026pp=ygUUTmFtYXN0ZXkgTG9uZG9uIHNvbmc%3D'"
      ]
     },
     "execution_count": 8,
     "metadata": {},
     "output_type": "execute_result"
    }
   ],
   "source": [
    "import pywhatkit as pk\n",
    "\n",
    "# Play a song on YouTube\n",
    "song_name = \"Namastey London song\"  # Enter the name of the song you want to play\n",
    "pk.playonyt(song_name)\n"
   ]
  },
  {
   "cell_type": "code",
   "execution_count": 9,
   "id": "d97a7e74",
   "metadata": {},
   "outputs": [],
   "source": [
    "import pywhatkit as pk\n",
    "\n",
    "# Search on Google\n",
    "query = \"Python programming language\"  # Enter the query you want to search for\n",
    "pk.search(query)\n"
   ]
  },
  {
   "cell_type": "code",
   "execution_count": null,
   "id": "68e09036",
   "metadata": {},
   "outputs": [],
   "source": [
    "import pywhatkit as pk\n",
    "\n",
    "# Get information from Wikipedia with specific number of lines\n",
    "topic = \"Python programming language\"  # Enter the topic you want to search for\n",
    "lines = 5  # Number of lines to retrieve from the Wikipedia article\n",
    "pk.info(topic, lines=lines)\n"
   ]
  },
  {
   "cell_type": "code",
   "execution_count": null,
   "id": "20a3f467",
   "metadata": {},
   "outputs": [],
   "source": []
  }
 ],
 "metadata": {
  "kernelspec": {
   "display_name": "Python 3 (ipykernel)",
   "language": "python",
   "name": "python3"
  },
  "language_info": {
   "codemirror_mode": {
    "name": "ipython",
    "version": 3
   },
   "file_extension": ".py",
   "mimetype": "text/x-python",
   "name": "python",
   "nbconvert_exporter": "python",
   "pygments_lexer": "ipython3",
   "version": "3.10.9"
  }
 },
 "nbformat": 4,
 "nbformat_minor": 5
}
